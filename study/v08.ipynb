{
 "cells": [
  {
   "cell_type": "code",
   "execution_count": 196,
   "metadata": {
    "collapsed": true
   },
   "outputs": [],
   "source": [
    "import numpy as np\n",
    "import torch\n",
    "from torch.utils import data\n",
    "import torch.nn as nn"
   ]
  },
  {
   "cell_type": "code",
   "execution_count": 197,
   "outputs": [
    {
     "name": "stdout",
     "output_type": "stream",
     "text": [
      "epoch 1, loss 41.1285\n",
      "epoch 2, loss 0.1581\n",
      "epoch 3, loss 0.0502\n",
      "tensor([-1.9312e-05, -4.9591e-05])\n",
      "tensor([-0.0007])\n"
     ]
    }
   ],
   "source": [
    "# parameters\n",
    "w_data = torch.tensor([2, -3.4])\n",
    "b_data = 4.2\n",
    "size_data = 1000\n",
    "epoch_learn = 3\n",
    "batch_learn = 10\n",
    "lr_learn = 0.03\n",
    "\n",
    "# data\n",
    "def make_data(w, b, n):\n",
    "    X = torch.normal(0, 1, (n, len(w)))\n",
    "    y = torch.matmul(X, w) + b\n",
    "    y += torch.normal(0, 0.01, y.shape)\n",
    "    return X, y\n",
    "\n",
    "X_data, y_data = make_data(w_data, b_data, size_data)\n",
    "def data_iter(batch, X, y):\n",
    "    n = len(y)\n",
    "    index = np.random.permutation(np.arange(n))\n",
    "    for i in range(0, n, batch):\n",
    "        ind = index[i:min(i + batch, n)]\n",
    "        yield X[ind], y[ind]\n",
    "\n",
    "# model\n",
    "w_model = torch.normal(0, 0.01, size=[2], requires_grad=True)\n",
    "b_model = torch.zeros(1, requires_grad=True)\n",
    "def linear_model(X, w, b):\n",
    "    return torch.matmul(X, w) + b\n",
    "\n",
    "def loss(y_hat, y):\n",
    "    return torch.sum((y_hat - y) ** 2) / 2\n",
    "\n",
    "def sgd(params, lr, batch):\n",
    "    with torch.no_grad():\n",
    "        for param in params:\n",
    "            param -= lr * param.grad / batch\n",
    "            param.grad.zero_()\n",
    "\n",
    "# training\n",
    "for epoch in range(epoch_learn):\n",
    "    for X_batch, y_batch in data_iter(batch_learn, X_data, y_data):\n",
    "        loss(linear_model(X_batch, w_model, b_model), y_batch).backward()\n",
    "        sgd([w_model, b_model], lr_learn, batch_learn)\n",
    "\n",
    "    with torch.no_grad():\n",
    "        loss_learn = loss(linear_model(X_data, w_model, b_model), y_data)\n",
    "        print('epoch {}, loss {:.4f}'.format(epoch + 1, loss_learn))\n",
    "\n",
    "# results\n",
    "print((w_model - w_data).data)\n",
    "print((b_model - b_data).data)"
   ],
   "metadata": {
    "collapsed": false,
    "pycharm": {
     "name": "#%%\n"
    }
   }
  },
  {
   "cell_type": "code",
   "execution_count": 197,
   "outputs": [],
   "source": [],
   "metadata": {
    "collapsed": false,
    "pycharm": {
     "name": "#%%\n"
    }
   }
  },
  {
   "cell_type": "code",
   "execution_count": 198,
   "outputs": [
    {
     "name": "stdout",
     "output_type": "stream",
     "text": [
      "epoch 1, loss 0.0004\n",
      "epoch 2, loss 0.0001\n",
      "epoch 3, loss 0.0001\n",
      "tensor([[ 8.4758e-04, -7.6056e-05]])\n",
      "tensor([0.0002])\n"
     ]
    }
   ],
   "source": [
    "# parameters\n",
    "w_data = torch.tensor([2, -3.4])\n",
    "b_data = 4.2\n",
    "size_data = 1000\n",
    "batch_learn = 10\n",
    "lr_learn = 0.03\n",
    "epoch_learn = 3\n",
    "\n",
    "# data\n",
    "def make_data(w, b, n):\n",
    "    X = torch.normal(0, 1, (n, len(w)))\n",
    "    y = torch.matmul(X, w) + b\n",
    "    y += torch.normal(0, 0.01, y.shape)\n",
    "    return X, y.reshape([-1, 1])\n",
    "\n",
    "X_data, y_data = make_data(w_data, b_data, size_data)\n",
    "def load_array(dataset, batch, train=True):\n",
    "    dataset = data.TensorDataset(*dataset)\n",
    "    return data.DataLoader(dataset, batch, shuffle=train)\n",
    "\n",
    "data_iter = load_array([X_data, y_data], batch_learn)\n",
    "\n",
    "# model\n",
    "model = nn.Sequential(nn.Linear(2, 1))\n",
    "model[0].weight.data.normal_(0, 0.01)\n",
    "model[0].bias.data.fill_(0)\n",
    "loss = nn.MSELoss()\n",
    "trainer = torch.optim.SGD(model.parameters(), lr=lr_learn)\n",
    "\n",
    "# training\n",
    "for epoch in range(epoch_learn):\n",
    "    for X_batch, y_batch in data_iter:\n",
    "        loss(model(X_batch), y_batch).backward()\n",
    "        trainer.step()\n",
    "        trainer.zero_grad()\n",
    "\n",
    "    loss_learn = loss(model(X_data), y_data)\n",
    "    print('epoch {}, loss {:.4f}'.format(epoch + 1, loss_learn))\n",
    "\n",
    "# results\n",
    "print((model[0].weight - w_data).data)\n",
    "print((model[0].bias - b_data).data)"
   ],
   "metadata": {
    "collapsed": false,
    "pycharm": {
     "name": "#%%\n"
    }
   }
  },
  {
   "cell_type": "code",
   "execution_count": 198,
   "outputs": [],
   "source": [],
   "metadata": {
    "collapsed": false,
    "pycharm": {
     "name": "#%%\n"
    }
   }
  }
 ],
 "metadata": {
  "kernelspec": {
   "display_name": "Python 3",
   "language": "python",
   "name": "python3"
  },
  "language_info": {
   "codemirror_mode": {
    "name": "ipython",
    "version": 2
   },
   "file_extension": ".py",
   "mimetype": "text/x-python",
   "name": "python",
   "nbconvert_exporter": "python",
   "pygments_lexer": "ipython2",
   "version": "2.7.6"
  }
 },
 "nbformat": 4,
 "nbformat_minor": 0
}
{
 "cells": [
  {
   "cell_type": "code",
   "execution_count": 7,
   "metadata": {
    "collapsed": true,
    "pycharm": {
     "name": "#%%\n"
    }
   },
   "outputs": [],
   "source": [
    "import torch\n",
    "from torch import nn"
   ]
  },
  {
   "cell_type": "code",
   "execution_count": 8,
   "outputs": [
    {
     "name": "stdout",
     "output_type": "stream",
     "text": [
      "epoch 1, p-acc (0.7617, 0.7501)\n",
      "epoch 2, p-acc (0.7844, 0.7673)\n",
      "epoch 3, p-acc (0.8306, 0.8181)\n",
      "epoch 4, p-acc (0.8461, 0.8326)\n",
      "epoch 5, p-acc (0.8508, 0.8366)\n",
      "epoch 6, p-acc (0.8307, 0.8135)\n",
      "epoch 7, p-acc (0.8538, 0.8424)\n",
      "epoch 8, p-acc (0.8565, 0.8439)\n",
      "epoch 9, p-acc (0.8525, 0.8390)\n",
      "epoch 10, p-acc (0.8681, 0.8504)\n"
     ]
    }
   ],
   "source": [
    "# data\n",
    "from share.FashionMNIST import read\n",
    "iter_train, iter_test = read(256)\n",
    "\n",
    "# model\n",
    "num_in, num_hide, num_out = 784, 256, 10\n",
    "model = nn.Sequential(nn.Flatten(), nn.Linear(num_in, num_hide), nn.ReLU(), nn.Linear(num_hide, num_out))\n",
    "loss = nn.CrossEntropyLoss()\n",
    "trainer = torch.optim.SGD(model.parameters(), lr=0.1)\n",
    "\n",
    "# train\n",
    "from share.EvaluateClassifier import evaluate_accuracy\n",
    "for epoch in range(10):\n",
    "    for X, y in iter_train:\n",
    "        loss(model(X), y).backward()\n",
    "        trainer.step()\n",
    "        trainer.zero_grad()\n",
    "\n",
    "    p_acc_train = evaluate_accuracy(model, iter_train)\n",
    "    p_acc_test = evaluate_accuracy(model, iter_test)\n",
    "    print('epoch {}, p-acc ({:.4f}, {:.4f})'.format(epoch + 1, p_acc_train, p_acc_test))"
   ],
   "metadata": {
    "collapsed": false,
    "pycharm": {
     "name": "#%%\n"
    }
   }
  },
  {
   "cell_type": "code",
   "execution_count": null,
   "outputs": [],
   "source": [],
   "metadata": {
    "collapsed": false,
    "pycharm": {
     "name": "#%%\n"
    }
   }
  }
 ],
 "metadata": {
  "kernelspec": {
   "display_name": "Python 3",
   "language": "python",
   "name": "python3"
  },
  "language_info": {
   "codemirror_mode": {
    "name": "ipython",
    "version": 2
   },
   "file_extension": ".py",
   "mimetype": "text/x-python",
   "name": "python",
   "nbconvert_exporter": "python",
   "pygments_lexer": "ipython2",
   "version": "2.7.6"
  }
 },
 "nbformat": 4,
 "nbformat_minor": 0
}
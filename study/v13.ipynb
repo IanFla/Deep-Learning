{
 "cells": [
  {
   "cell_type": "code",
   "execution_count": 10,
   "metadata": {
    "collapsed": true,
    "pycharm": {
     "name": "#%%\n"
    }
   },
   "outputs": [],
   "source": [
    "import torch\n",
    "from torch import nn"
   ]
  },
  {
   "cell_type": "code",
   "execution_count": 11,
   "outputs": [
    {
     "name": "stdout",
     "output_type": "stream",
     "text": [
      "epoch 1, p-acc 1 (0.6241, 0.6126), p-acc 2 (0.7231, 0.7120)\n",
      "epoch 2, p-acc 1 (0.8141, 0.8041), p-acc 2 (0.8143, 0.8013)\n",
      "epoch 3, p-acc 1 (0.7946, 0.7832), p-acc 2 (0.7593, 0.7539)\n",
      "epoch 4, p-acc 1 (0.7946, 0.7838), p-acc 2 (0.8062, 0.7944)\n",
      "epoch 5, p-acc 1 (0.8328, 0.8168), p-acc 2 (0.8306, 0.8174)\n",
      "epoch 6, p-acc 1 (0.8358, 0.8213), p-acc 2 (0.8427, 0.8251)\n",
      "epoch 7, p-acc 1 (0.8565, 0.8430), p-acc 2 (0.8641, 0.8482)\n",
      "epoch 8, p-acc 1 (0.8488, 0.8303), p-acc 2 (0.8602, 0.8405)\n",
      "epoch 9, p-acc 1 (0.8267, 0.8099), p-acc 2 (0.8196, 0.8016)\n",
      "epoch 10, p-acc 1 (0.8695, 0.8500), p-acc 2 (0.8668, 0.8491)\n"
     ]
    }
   ],
   "source": [
    "# data\n",
    "from share.FashionMNIST import read\n",
    "iter_train, iter_test = read(256)\n",
    "\n",
    "# model\n",
    "num_in, num_hide1, num_hide2, num_out = 784, 200, 50, 10\n",
    "model1 = nn.Sequential(nn.Flatten(), nn.Linear(num_in, num_hide1), nn.ReLU(), nn.Linear(num_hide1, num_hide2), nn.ReLU(), nn.Linear(num_hide2, num_out))\n",
    "model2 = nn.Sequential(nn.Flatten(), nn.Linear(num_in, num_hide1), nn.ReLU(), nn.Dropout(), nn.Linear(num_hide1, num_hide2), nn.ReLU(), nn.Dropout(), nn.Linear(num_hide2, num_out))\n",
    "loss = nn.CrossEntropyLoss()\n",
    "trainer1 = torch.optim.SGD(model1.parameters(), lr=0.1)\n",
    "trainer2 = torch.optim.SGD(model2.parameters(), lr=0.1)\n",
    "\n",
    "# train\n",
    "from share.EvaluateClassifier import evaluate_accuracy\n",
    "for epoch in range(10):\n",
    "    for X, y in iter_train:\n",
    "        loss(model1(X), y).backward()\n",
    "        loss(model2(X), y).backward()\n",
    "        trainer1.step()\n",
    "        trainer1.zero_grad()\n",
    "        trainer2.step()\n",
    "        trainer2.zero_grad()\n",
    "\n",
    "    p_acc_1_train = evaluate_accuracy(model1, iter_train)\n",
    "    p_acc_1_test = evaluate_accuracy(model1, iter_test)\n",
    "    p_acc_2_train = evaluate_accuracy(model2, iter_train)\n",
    "    p_acc_2_test = evaluate_accuracy(model2, iter_test)\n",
    "    print('epoch {}, p-acc 1 ({:.4f}, {:.4f}), p-acc 2 ({:.4f}, {:.4f})'.format(epoch + 1, p_acc_1_train, p_acc_1_test, p_acc_2_train, p_acc_2_test))"
   ],
   "metadata": {
    "collapsed": false,
    "pycharm": {
     "name": "#%%\n"
    }
   }
  },
  {
   "cell_type": "code",
   "execution_count": null,
   "outputs": [],
   "source": [],
   "metadata": {
    "collapsed": false,
    "pycharm": {
     "name": "#%%\n"
    }
   }
  }
 ],
 "metadata": {
  "kernelspec": {
   "display_name": "Python 3",
   "language": "python",
   "name": "python3"
  },
  "language_info": {
   "codemirror_mode": {
    "name": "ipython",
    "version": 2
   },
   "file_extension": ".py",
   "mimetype": "text/x-python",
   "name": "python",
   "nbconvert_exporter": "python",
   "pygments_lexer": "ipython2",
   "version": "2.7.6"
  }
 },
 "nbformat": 4,
 "nbformat_minor": 0
}
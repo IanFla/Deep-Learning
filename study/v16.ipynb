{
 "cells": [
  {
   "cell_type": "code",
   "execution_count": 50,
   "metadata": {
    "collapsed": true,
    "pycharm": {
     "name": "#%%\n"
    }
   },
   "outputs": [],
   "source": [
    "import torch\n",
    "from torch import nn\n",
    "from torch.nn import functional as F"
   ]
  },
  {
   "cell_type": "code",
   "execution_count": 51,
   "outputs": [],
   "source": [
    "class MLP(nn.Module):\n",
    "    def __init__(self):\n",
    "        super().__init__()\n",
    "        self.hide = nn.Linear(20, 256)\n",
    "        self.out = nn.Linear(256, 10)\n",
    "\n",
    "    def forward(self, X):\n",
    "        return self.out(F.relu(self.hidden(X)))"
   ],
   "metadata": {
    "collapsed": false,
    "pycharm": {
     "name": "#%%\n"
    }
   }
  },
  {
   "cell_type": "code",
   "execution_count": 52,
   "outputs": [
    {
     "name": "stdout",
     "output_type": "stream",
     "text": [
      "Sequential(\n",
      "  (0): MLP(\n",
      "    (hide): Linear(in_features=20, out_features=256, bias=True)\n",
      "    (out): Linear(in_features=256, out_features=10, bias=True)\n",
      "  )\n",
      "  (hide): Linear(in_features=10, out_features=1, bias=True)\n",
      ")\n",
      "odict_keys(['0.hide.weight', '0.hide.bias', '0.out.weight', '0.out.bias', 'hide.weight', 'hide.bias'])\n",
      "Linear(in_features=10, out_features=1, bias=True)\n",
      "Parameter containing:\n",
      "tensor([-0.1073], requires_grad=True)\n",
      "tensor([-0.1073])\n",
      "None\n",
      "[('0.hide.weight', torch.Size([256, 20])), ('0.hide.bias', torch.Size([256])), ('0.out.weight', torch.Size([10, 256])), ('0.out.bias', torch.Size([10])), ('hide.weight', torch.Size([1, 10])), ('hide.bias', torch.Size([1]))]\n"
     ]
    }
   ],
   "source": [
    "model = nn.Sequential(MLP())\n",
    "model.add_module('hide', nn.Linear(10, 1))\n",
    "print(model)\n",
    "print(model.state_dict().keys())\n",
    "print(model.hide)\n",
    "print(model.hide.bias)\n",
    "print(model.hide.bias.data)\n",
    "print(model.hide.bias.grad)\n",
    "print([(a, b.shape) for (a, b) in model.named_parameters()])"
   ],
   "metadata": {
    "collapsed": false,
    "pycharm": {
     "name": "#%%\n"
    }
   }
  },
  {
   "cell_type": "code",
   "execution_count": 53,
   "outputs": [
    {
     "data": {
      "text/plain": "tensor([[0.0000, 1.9187],\n        [0.0000, 6.7991],\n        [0.4102, 6.8209]])"
     },
     "execution_count": 53,
     "metadata": {},
     "output_type": "execute_result"
    }
   ],
   "source": [
    "class Linear(nn.Module):\n",
    "    def __init__(self, n_in, n_out):\n",
    "        super().__init__()\n",
    "        self.weight = nn.Parameter(torch.randn(n_in, n_out))\n",
    "        self.bias = nn.Parameter(torch.randn(n_out))\n",
    "\n",
    "    def forward(self, X):\n",
    "        linear = torch.matmul(X, self.weight.data) + self.bias.data\n",
    "        return F.relu(linear)\n",
    "\n",
    "model = nn.Sequential(Linear(64, 8), Linear(8, 2))\n",
    "model(torch.rand(3, 64))"
   ],
   "metadata": {
    "collapsed": false,
    "pycharm": {
     "name": "#%%\n"
    }
   }
  },
  {
   "cell_type": "code",
   "execution_count": 53,
   "outputs": [],
   "source": [
    "# torch.save\n",
    "# torch.load\n",
    "# state_dict(), load_state_dict()"
   ],
   "metadata": {
    "collapsed": false,
    "pycharm": {
     "name": "#%%\n"
    }
   }
  },
  {
   "cell_type": "code",
   "execution_count": 53,
   "outputs": [],
   "source": [],
   "metadata": {
    "collapsed": false,
    "pycharm": {
     "name": "#%%\n"
    }
   }
  }
 ],
 "metadata": {
  "kernelspec": {
   "display_name": "Python 3",
   "language": "python",
   "name": "python3"
  },
  "language_info": {
   "codemirror_mode": {
    "name": "ipython",
    "version": 2
   },
   "file_extension": ".py",
   "mimetype": "text/x-python",
   "name": "python",
   "nbconvert_exporter": "python",
   "pygments_lexer": "ipython2",
   "version": "2.7.6"
  }
 },
 "nbformat": 4,
 "nbformat_minor": 0
}
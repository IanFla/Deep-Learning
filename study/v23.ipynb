{
 "cells": [
  {
   "cell_type": "code",
   "execution_count": 40,
   "metadata": {
    "collapsed": true,
    "pycharm": {
     "name": "#%%\n"
    }
   },
   "outputs": [],
   "source": [
    "import torch\n",
    "from torch import nn"
   ]
  },
  {
   "cell_type": "code",
   "execution_count": 41,
   "outputs": [
    {
     "name": "stdout",
     "output_type": "stream",
     "text": [
      "epoch 1, p-acc (0.7952, 0.7897)\n",
      "epoch 2, p-acc (0.8664, 0.8559)\n",
      "epoch 3, p-acc (0.8765, 0.8618)\n",
      "epoch 4, p-acc (0.8945, 0.8803)\n",
      "epoch 5, p-acc (0.9058, 0.8875)\n",
      "epoch 6, p-acc (0.9062, 0.8875)\n",
      "epoch 7, p-acc (0.9132, 0.8909)\n",
      "epoch 8, p-acc (0.9195, 0.8949)\n",
      "epoch 9, p-acc (0.9201, 0.8945)\n",
      "epoch 10, p-acc (0.9274, 0.8987)\n"
     ]
    }
   ],
   "source": [
    "# data\n",
    "from share.FashionMNIST import read\n",
    "iter_train, iter_test = read(256)\n",
    "\n",
    "# model\n",
    "model = nn.Sequential(nn.Conv2d(1, 6, kernel_size=5, padding=2), nn.ReLU(), nn.AvgPool2d(2, stride=2), nn.Conv2d(6, 16, kernel_size=5), nn.ReLU(), nn.MaxPool2d(2, stride=2), nn.Flatten(), nn.Linear(400, 120), nn.ReLU(), nn.Dropout(p=0.5), nn.Linear(120, 84), nn.ReLU(), nn.Dropout(p=0.5), nn.Linear(84, 10))\n",
    "loss = nn.CrossEntropyLoss()\n",
    "trainer = torch.optim.Adam(model.parameters(), lr=0.005)\n",
    "\n",
    "# train\n",
    "from share.EvaluateClassifier import evaluate_accuracy\n",
    "for epoch in range(10):\n",
    "    for X, y in iter_train:\n",
    "        loss(model(X), y).backward()\n",
    "        trainer.step()\n",
    "        trainer.zero_grad()\n",
    "\n",
    "    p_acc_train = evaluate_accuracy(model, iter_train)\n",
    "    p_acc_test = evaluate_accuracy(model, iter_test)\n",
    "    print('epoch {}, p-acc ({:.4f}, {:.4f})'.format(epoch + 1, p_acc_train, p_acc_test))"
   ],
   "metadata": {
    "collapsed": false,
    "pycharm": {
     "name": "#%%\n"
    }
   }
  },
  {
   "cell_type": "code",
   "execution_count": 41,
   "outputs": [],
   "source": [],
   "metadata": {
    "collapsed": false,
    "pycharm": {
     "name": "#%%\n"
    }
   }
  }
 ],
 "metadata": {
  "kernelspec": {
   "display_name": "Python 3",
   "language": "python",
   "name": "python3"
  },
  "language_info": {
   "codemirror_mode": {
    "name": "ipython",
    "version": 2
   },
   "file_extension": ".py",
   "mimetype": "text/x-python",
   "name": "python",
   "nbconvert_exporter": "python",
   "pygments_lexer": "ipython2",
   "version": "2.7.6"
  }
 },
 "nbformat": 4,
 "nbformat_minor": 0
}
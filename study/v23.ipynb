{
 "cells": [
  {
   "cell_type": "code",
   "execution_count": 5,
   "metadata": {
    "collapsed": true,
    "pycharm": {
     "name": "#%%\n"
    }
   },
   "outputs": [],
   "source": [
    "import torch\n",
    "from torch import nn"
   ]
  },
  {
   "cell_type": "code",
   "execution_count": 6,
   "outputs": [
    {
     "name": "stdout",
     "output_type": "stream",
     "text": [
      "epoch 1, p-acc (0.7957, 0.7768)\n",
      "epoch 2, p-acc (0.8878, 0.8713)\n",
      "epoch 3, p-acc (0.9040, 0.8875)\n",
      "epoch 4, p-acc (0.9069, 0.8880)\n",
      "epoch 5, p-acc (0.9114, 0.8882)\n",
      "epoch 6, p-acc (0.9136, 0.8921)\n",
      "epoch 7, p-acc (0.9253, 0.8990)\n",
      "epoch 8, p-acc (0.9273, 0.8980)\n",
      "epoch 9, p-acc (0.9243, 0.8962)\n",
      "epoch 10, p-acc (0.9331, 0.8993)\n"
     ]
    }
   ],
   "source": [
    "# data\n",
    "from share.FashionMNIST import read\n",
    "iter_train, iter_test = read(256)\n",
    "\n",
    "# model\n",
    "model = nn.Sequential(\n",
    "    nn.Conv2d(1, 6, kernel_size=5, padding=2), nn.BatchNorm2d(6), nn.ReLU(), nn.AvgPool2d(2, stride=2),\n",
    "    nn.Conv2d(6, 16, kernel_size=5), nn.BatchNorm2d(16), nn.ReLU(), nn.MaxPool2d(2, stride=2),\n",
    "    nn.Flatten(),\n",
    "    nn.Linear(400, 120), nn.BatchNorm1d(120), nn.ReLU(),\n",
    "    nn.Linear(120, 84), nn.Dropout(), nn.ReLU(),\n",
    "    nn.Linear(84, 10))\n",
    "loss = nn.CrossEntropyLoss()\n",
    "trainer = torch.optim.Adam(model.parameters(), lr=0.01)\n",
    "\n",
    "# train\n",
    "from share.EvaluateClassifier import evaluate_accuracy\n",
    "for epoch in range(10):\n",
    "    for X, y in iter_train:\n",
    "        loss(model(X), y).backward()\n",
    "        trainer.step()\n",
    "        trainer.zero_grad()\n",
    "\n",
    "    p_acc_train = evaluate_accuracy(model, iter_train)\n",
    "    p_acc_test = evaluate_accuracy(model, iter_test)\n",
    "    print('epoch {}, p-acc ({:.4f}, {:.4f})'.format(epoch + 1, p_acc_train, p_acc_test))"
   ],
   "metadata": {
    "collapsed": false,
    "pycharm": {
     "name": "#%%\n"
    }
   }
  },
  {
   "cell_type": "code",
   "execution_count": 6,
   "outputs": [],
   "source": [],
   "metadata": {
    "collapsed": false,
    "pycharm": {
     "name": "#%%\n"
    }
   }
  }
 ],
 "metadata": {
  "kernelspec": {
   "display_name": "Python 3",
   "language": "python",
   "name": "python3"
  },
  "language_info": {
   "codemirror_mode": {
    "name": "ipython",
    "version": 2
   },
   "file_extension": ".py",
   "mimetype": "text/x-python",
   "name": "python",
   "nbconvert_exporter": "python",
   "pygments_lexer": "ipython2",
   "version": "2.7.6"
  }
 },
 "nbformat": 4,
 "nbformat_minor": 0
}